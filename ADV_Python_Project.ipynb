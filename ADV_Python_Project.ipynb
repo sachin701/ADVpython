{
  "nbformat": 4,
  "nbformat_minor": 0,
  "metadata": {
    "colab": {
      "name": "ADV Python Project.ipynb",
      "provenance": [],
      "collapsed_sections": [],
      "toc_visible": true,
      "include_colab_link": true
    },
    "kernelspec": {
      "name": "python3",
      "display_name": "Python 3"
    }
  },
  "cells": [
    {
      "cell_type": "markdown",
      "metadata": {
        "id": "view-in-github",
        "colab_type": "text"
      },
      "source": [
        "<a href=\"https://colab.research.google.com/github/sachin701/ADVpython/blob/main/ADV_Python_Project.ipynb\" target=\"_parent\"><img src=\"https://colab.research.google.com/assets/colab-badge.svg\" alt=\"Open In Colab\"/></a>"
      ]
    },
    {
      "cell_type": "code",
      "metadata": {
        "id": "x4YbnKcvPnwJ"
      },
      "source": [
        "import pandas as pd"
      ],
      "execution_count": null,
      "outputs": []
    },
    {
      "cell_type": "code",
      "metadata": {
        "id": "Wy5sQ6LZQRMg"
      },
      "source": [
        ""
      ],
      "execution_count": null,
      "outputs": []
    },
    {
      "cell_type": "code",
      "metadata": {
        "id": "W6Y9hHu5Gs_M"
      },
      "source": [
        "# BIBEK's drive connection\n",
        "\n",
        "from google.colab import drive\n",
        "drive.mount('/content/drive')"
      ],
      "execution_count": null,
      "outputs": []
    },
    {
      "cell_type": "code",
      "metadata": {
        "id": "KKI0ru4EHKDV"
      },
      "source": [
        "import pandas as pd\n",
        "\n",
        "import pandas as pd\n",
        "import numpy as np\n",
        "import matplotlib.pyplot as plt\n"
      ],
      "execution_count": null,
      "outputs": []
    },
    {
      "cell_type": "code",
      "metadata": {
        "id": "u6zl-tLfRvqm",
        "colab": {
          "base_uri": "https://localhost:8080/"
        },
        "outputId": "9236c978-637b-439d-e914-3400b2560dff"
      },
      "source": [
        "df=pd.read_csv(\"/content/drive/My Drive/The Global Dataset 14 Apr 2020.csv\")"
      ],
      "execution_count": null,
      "outputs": [
        {
          "output_type": "stream",
          "text": [
            "/usr/local/lib/python3.6/dist-packages/IPython/core/interactiveshell.py:2718: DtypeWarning: Columns (6,55,57) have mixed types.Specify dtype option on import or set low_memory=False.\n",
            "  interactivity=interactivity, compiler=compiler, result=result)\n"
          ],
          "name": "stderr"
        }
      ]
    },
    {
      "cell_type": "code",
      "metadata": {
        "id": "QOBn35AnQauG",
        "colab": {
          "base_uri": "https://localhost:8080/"
        },
        "outputId": "704d9340-e146-47eb-a3fe-c4f18106882f"
      },
      "source": [
        "len(df.columns)"
      ],
      "execution_count": null,
      "outputs": [
        {
          "output_type": "execute_result",
          "data": {
            "text/plain": [
              "64"
            ]
          },
          "metadata": {
            "tags": []
          },
          "execution_count": 7
        }
      ]
    },
    {
      "cell_type": "code",
      "metadata": {
        "id": "q3RuV7x0HOkF",
        "colab": {
          "base_uri": "https://localhost:8080/"
        },
        "outputId": "975d9902-fa71-4277-cf1e-b454e3fcebcf"
      },
      "source": [
        "df[\"gender\"].value_counts()"
      ],
      "execution_count": null,
      "outputs": [
        {
          "output_type": "execute_result",
          "data": {
            "text/plain": [
              "Female    35534\n",
              "Male      13267\n",
              "Name: gender, dtype: int64"
            ]
          },
          "metadata": {
            "tags": []
          },
          "execution_count": 6
        }
      ]
    },
    {
      "cell_type": "code",
      "metadata": {
        "id": "jg42en65IDCa",
        "colab": {
          "base_uri": "https://localhost:8080/"
        },
        "outputId": "22872683-3773-45ef-e827-9543bae1e704"
      },
      "source": [
        "df.shape"
      ],
      "execution_count": null,
      "outputs": [
        {
          "output_type": "execute_result",
          "data": {
            "text/plain": [
              "(48801, 64)"
            ]
          },
          "metadata": {
            "tags": []
          },
          "execution_count": 8
        }
      ]
    },
    {
      "cell_type": "code",
      "metadata": {
        "id": "wZieaks8IEbC",
        "colab": {
          "base_uri": "https://localhost:8080/"
        },
        "outputId": "4cea4c54-f8c5-4e57-effa-2f6b16832b68"
      },
      "source": [
        "print(13267/48801,35534/48801)"
      ],
      "execution_count": null,
      "outputs": [
        {
          "output_type": "stream",
          "text": [
            "0.27185918321345875 0.7281408167865413\n"
          ],
          "name": "stdout"
        }
      ]
    },
    {
      "cell_type": "code",
      "metadata": {
        "id": "DlPweAezHbV8",
        "colab": {
          "base_uri": "https://localhost:8080/"
        },
        "outputId": "4dc9883f-c253-43d2-9454-f301dd88d9b0"
      },
      "source": [
        "df[\"typeOfExploitConcatenated\"].value_counts()"
      ],
      "execution_count": null,
      "outputs": [
        {
          "output_type": "execute_result",
          "data": {
            "text/plain": [
              "-99                                                                          16174\n",
              "Sexual exploitation                                                          15989\n",
              "Forced labour                                                                 8969\n",
              "Other                                                                         7063\n",
              "Slavery and similar practices                                                  359\n",
              "Forced marriage                                                                168\n",
              "Forced labour;Sexual exploitation;Combined sexual and labour exploitation       78\n",
              "Forced labour;Other                                                              1\n",
              "Name: typeOfExploitConcatenated, dtype: int64"
            ]
          },
          "metadata": {
            "tags": []
          },
          "execution_count": 10
        }
      ]
    },
    {
      "cell_type": "markdown",
      "metadata": {
        "id": "UsTtcvxYOV2G"
      },
      "source": [
        "-99 means no collected data for the represtentive fields"
      ]
    },
    {
      "cell_type": "code",
      "metadata": {
        "id": "xczgknvwIPGr",
        "colab": {
          "base_uri": "https://localhost:8080/"
        },
        "outputId": "b2e439ea-a162-4e7c-8469-87dca00983aa"
      },
      "source": [
        "c=df[\"typeOfExploitConcatenated\"].value_counts()\n",
        "\n",
        "(c/c.sum())*100"
      ],
      "execution_count": null,
      "outputs": [
        {
          "output_type": "execute_result",
          "data": {
            "text/plain": [
              "-99                                                                          33.142763\n",
              "Sexual exploitation                                                          32.763673\n",
              "Forced labour                                                                18.378722\n",
              "Other                                                                        14.473064\n",
              "Slavery and similar practices                                                 0.735641\n",
              "Forced marriage                                                               0.344255\n",
              "Forced labour;Sexual exploitation;Combined sexual and labour exploitation     0.159833\n",
              "Forced labour;Other                                                           0.002049\n",
              "Name: typeOfExploitConcatenated, dtype: float64"
            ]
          },
          "metadata": {
            "tags": []
          },
          "execution_count": 11
        }
      ]
    },
    {
      "cell_type": "code",
      "metadata": {
        "id": "49jJyFm8HtwL",
        "colab": {
          "base_uri": "https://localhost:8080/"
        },
        "outputId": "274bfd62-02f0-4a05-803d-fc6e4a5629ab"
      },
      "source": [
        "df[\"citizenship\"].value_counts()"
      ],
      "execution_count": 20,
      "outputs": [
        {
          "output_type": "execute_result",
          "data": {
            "text/plain": [
              "PH     11365\n",
              "00      8858\n",
              "UA      7761\n",
              "MD      5901\n",
              "US      3636\n",
              "KH      1979\n",
              "ID      1971\n",
              "BY      1463\n",
              "MM      1250\n",
              "RO       655\n",
              "GH       544\n",
              "KG       437\n",
              "BG       342\n",
              "HT       339\n",
              "-99      278\n",
              "UZ       261\n",
              "VN       170\n",
              "GW       145\n",
              "LA       126\n",
              "CO       124\n",
              "NG       108\n",
              "UG        98\n",
              "AF        97\n",
              "MG        94\n",
              "LK        85\n",
              "SL        81\n",
              "SN        70\n",
              "TH        55\n",
              "KZ        54\n",
              "CD        53\n",
              "ML        45\n",
              "TJ        43\n",
              "BF        33\n",
              "KE        32\n",
              "CI        31\n",
              "NE        31\n",
              "NP        27\n",
              "TM        26\n",
              "CN        23\n",
              "AL        22\n",
              "MX        19\n",
              "BO        18\n",
              "GN        15\n",
              "ER        13\n",
              "KR        12\n",
              "BD        11\n",
              "Name: citizenship, dtype: int64"
            ]
          },
          "metadata": {
            "tags": []
          },
          "execution_count": 20
        }
      ]
    },
    {
      "cell_type": "code",
      "metadata": {
        "id": "07v11rduLaH1",
        "colab": {
          "base_uri": "https://localhost:8080/"
        },
        "outputId": "2a1f6b96-5248-453e-fb07-23abff2736c4"
      },
      "source": [
        "df[\"meansOfControlTakesEarnings\"].value_counts()"
      ],
      "execution_count": null,
      "outputs": [
        {
          "output_type": "execute_result",
          "data": {
            "text/plain": [
              "-99    44804\n",
              " 1      2776\n",
              " 0      1221\n",
              "Name: meansOfControlTakesEarnings, dtype: int64"
            ]
          },
          "metadata": {
            "tags": []
          },
          "execution_count": 13
        }
      ]
    },
    {
      "cell_type": "markdown",
      "metadata": {
        "id": "RboqwqhrwRRE"
      },
      "source": [
        "# New Section"
      ]
    },
    {
      "cell_type": "code",
      "metadata": {
        "id": "PWgxCsXzwUzG"
      },
      "source": [
        "from google.colab import drive\n",
        "drive.mount('/content/drive')"
      ],
      "execution_count": null,
      "outputs": []
    },
    {
      "cell_type": "code",
      "metadata": {
        "id": "GjCZUEJHUJqx"
      },
      "source": [
        "genders=df['gender'].values\n",
        "years=df['yearOfRegistration'].values\n",
        "registration=df['yearOfRegistration'].value_counts()\n",
        "registration=registration.sort_index(0)\n",
        "\n"
      ],
      "execution_count": 42,
      "outputs": []
    },
    {
      "cell_type": "markdown",
      "metadata": {
        "id": "bJ_RUtC3UOIL"
      },
      "source": [
        "getting years and case count each of year to see the rise and fall in case\n"
      ]
    },
    {
      "cell_type": "code",
      "metadata": {
        "id": "MIlZgyEROrsE"
      },
      "source": [
        "case_count=registration.values\n",
        "case_count\n",
        "years=registration.index"
      ],
      "execution_count": 43,
      "outputs": []
    },
    {
      "cell_type": "code",
      "metadata": {
        "colab": {
          "base_uri": "https://localhost:8080/"
        },
        "id": "fLYUcChh7BLY",
        "outputId": "06bc1985-d7b8-42aa-9f20-79596308eab3"
      },
      "source": [
        "case_count"
      ],
      "execution_count": 44,
      "outputs": [
        {
          "output_type": "execute_result",
          "data": {
            "text/plain": [
              "array([ 1026,   357,   223,  1455,  1423,  1417,   802,   587,   943,\n",
              "        1340,  1367,  1832,  3000,  4276, 16399,  6508,  5818,    28])"
            ]
          },
          "metadata": {
            "tags": []
          },
          "execution_count": 44
        }
      ]
    },
    {
      "cell_type": "code",
      "metadata": {
        "colab": {
          "base_uri": "https://localhost:8080/"
        },
        "id": "LSID1wfw7F8K",
        "outputId": "4afa22eb-86da-4547-e438-e3233640d4d2"
      },
      "source": [
        "years"
      ],
      "execution_count": 45,
      "outputs": [
        {
          "output_type": "execute_result",
          "data": {
            "text/plain": [
              "Int64Index([2002, 2003, 2004, 2005, 2006, 2007, 2008, 2009, 2010, 2011, 2012,\n",
              "            2013, 2014, 2015, 2016, 2017, 2018, 2019],\n",
              "           dtype='int64')"
            ]
          },
          "metadata": {
            "tags": []
          },
          "execution_count": 45
        }
      ]
    },
    {
      "cell_type": "markdown",
      "metadata": {
        "id": "WLfGSmj0-Dia"
      },
      "source": [
        ""
      ]
    },
    {
      "cell_type": "code",
      "metadata": {
        "id": "J8Pfh6glxSTM",
        "colab": {
          "base_uri": "https://localhost:8080/",
          "height": 279
        },
        "outputId": "937b8b47-7921-4996-c52b-e6a79d23efe7"
      },
      "source": [
        "plt.figure()\n",
        "x1_values = years\n",
        "y1_values = case_count\n",
        "\n",
        "\n",
        "plt.plot(x1_values,y1_values,label='No of Cases')\n",
        "\n",
        "plt.xlim(2002,2020)\n",
        "\n",
        "\n",
        "#plt.xticks([2012,2013,2014,2015],['2012','2013','2014','2015'])\n",
        "\n",
        "plt.xlabel('years')\n",
        "plt.ylabel('No of Case')\n",
        "plt.axvspan(2015,2017, color='red', alpha=0.8)\n",
        "plt.legend(loc='best', ncol=5)\n",
        "\n",
        "\n",
        "\n",
        "plt.grid()"
      ],
      "execution_count": 54,
      "outputs": [
        {
          "output_type": "display_data",
          "data": {
            "image/png": "[encoded data removed]",
            "text/plain": [
              "<Figure size 432x288 with 1 Axes>"
            ]
          },
          "metadata": {
            "tags": [],
            "needs_background": "light"
          }
        }
      ]
    },
    {
      "cell_type": "markdown",
      "metadata": {
        "id": "yYrhJ9el-FCc"
      },
      "source": [
        "Lowest point was on 2019 of 28 case regitered\n",
        "and highest was 2016 no of case 16399\n",
        "As per as global new artical study we found more than 47% of chnage in case was noted that year for human trafficking \n",
        "https://polarisproject.org/press-releases/human-trafficking-hotline-cases-jump-by-35-in-2016/#:~:text=Reports%20of%20labor%20trafficking%20to,agriculture%2C%20and%20traveling%20sales%20crews.\n"
      ]
    }
  ]
}