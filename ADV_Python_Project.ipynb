{
  "nbformat": 4,
  "nbformat_minor": 0,
  "metadata": {
    "colab": {
      "name": "ADV Python Project.ipynb",
      "provenance": [],
      "collapsed_sections": [],
      "toc_visible": true,
      "include_colab_link": true
    },
    "kernelspec": {
      "name": "python3",
      "display_name": "Python 3"
    }
  },
  "cells": [
    {
      "cell_type": "markdown",
      "metadata": {
        "id": "view-in-github",
        "colab_type": "text"
      },
      "source": [
        "<a href=\"https://colab.research.google.com/github/sachin701/ADVpython/blob/main/ADV_Python_Project.ipynb\" target=\"_parent\"><img src=\"https://colab.research.google.com/assets/colab-badge.svg\" alt=\"Open In Colab\"/></a>"
      ]
    },
    {
      "cell_type": "code",
      "metadata": {
        "id": "x4YbnKcvPnwJ"
      },
      "source": [
        "import pandas as pd"
      ],
      "execution_count": null,
      "outputs": []
    },
    {
      "cell_type": "code",
      "metadata": {
        "id": "Wy5sQ6LZQRMg"
      },
      "source": [
        ""
      ],
      "execution_count": null,
      "outputs": []
    },
    {
      "cell_type": "code",
      "metadata": {
        "id": "W6Y9hHu5Gs_M"
      },
      "source": [
        "# BIBEK's drive connection\n",
        "\n",
        "from google.colab import drive\n",
        "drive.mount('/content/drive')"
      ],
      "execution_count": null,
      "outputs": []
    },
    {
      "cell_type": "code",
      "metadata": {
        "id": "KKI0ru4EHKDV"
      },
      "source": [
        "import pandas as pd\n",
        "\n",
        "import pandas as pd\n",
        "import numpy as np\n",
        "import matplotlib.pyplot as plt\n"
      ],
      "execution_count": 17,
      "outputs": []
    },
    {
      "cell_type": "code",
      "metadata": {
        "id": "u6zl-tLfRvqm",
        "colab": {
          "base_uri": "https://localhost:8080/"
        },
        "outputId": "9236c978-637b-439d-e914-3400b2560dff"
      },
      "source": [
        "df=pd.read_csv(\"/content/drive/My Drive/The Global Dataset 14 Apr 2020.csv\")"
      ],
      "execution_count": null,
      "outputs": [
        {
          "output_type": "stream",
          "text": [
            "/usr/local/lib/python3.6/dist-packages/IPython/core/interactiveshell.py:2718: DtypeWarning: Columns (6,55,57) have mixed types.Specify dtype option on import or set low_memory=False.\n",
            "  interactivity=interactivity, compiler=compiler, result=result)\n"
          ],
          "name": "stderr"
        }
      ]
    },
    {
      "cell_type": "code",
      "metadata": {
        "id": "QOBn35AnQauG",
        "colab": {
          "base_uri": "https://localhost:8080/"
        },
        "outputId": "704d9340-e146-47eb-a3fe-c4f18106882f"
      },
      "source": [
        "len(df.columns)"
      ],
      "execution_count": null,
      "outputs": [
        {
          "output_type": "execute_result",
          "data": {
            "text/plain": [
              "64"
            ]
          },
          "metadata": {
            "tags": []
          },
          "execution_count": 7
        }
      ]
    },
    {
      "cell_type": "code",
      "metadata": {
        "id": "q3RuV7x0HOkF",
        "colab": {
          "base_uri": "https://localhost:8080/"
        },
        "outputId": "975d9902-fa71-4277-cf1e-b454e3fcebcf"
      },
      "source": [
        "df[\"gender\"].value_counts()"
      ],
      "execution_count": null,
      "outputs": [
        {
          "output_type": "execute_result",
          "data": {
            "text/plain": [
              "Female    35534\n",
              "Male      13267\n",
              "Name: gender, dtype: int64"
            ]
          },
          "metadata": {
            "tags": []
          },
          "execution_count": 6
        }
      ]
    },
    {
      "cell_type": "code",
      "metadata": {
        "id": "jg42en65IDCa",
        "colab": {
          "base_uri": "https://localhost:8080/"
        },
        "outputId": "22872683-3773-45ef-e827-9543bae1e704"
      },
      "source": [
        "df.shape"
      ],
      "execution_count": null,
      "outputs": [
        {
          "output_type": "execute_result",
          "data": {
            "text/plain": [
              "(48801, 64)"
            ]
          },
          "metadata": {
            "tags": []
          },
          "execution_count": 8
        }
      ]
    },
    {
      "cell_type": "code",
      "metadata": {
        "id": "wZieaks8IEbC",
        "colab": {
          "base_uri": "https://localhost:8080/"
        },
        "outputId": "4cea4c54-f8c5-4e57-effa-2f6b16832b68"
      },
      "source": [
        "print(13267/48801,35534/48801)"
      ],
      "execution_count": null,
      "outputs": [
        {
          "output_type": "stream",
          "text": [
            "0.27185918321345875 0.7281408167865413\n"
          ],
          "name": "stdout"
        }
      ]
    },
    {
      "cell_type": "code",
      "metadata": {
        "id": "DlPweAezHbV8",
        "colab": {
          "base_uri": "https://localhost:8080/"
        },
        "outputId": "4dc9883f-c253-43d2-9454-f301dd88d9b0"
      },
      "source": [
        "df[\"typeOfExploitConcatenated\"].value_counts()"
      ],
      "execution_count": null,
      "outputs": [
        {
          "output_type": "execute_result",
          "data": {
            "text/plain": [
              "-99                                                                          16174\n",
              "Sexual exploitation                                                          15989\n",
              "Forced labour                                                                 8969\n",
              "Other                                                                         7063\n",
              "Slavery and similar practices                                                  359\n",
              "Forced marriage                                                                168\n",
              "Forced labour;Sexual exploitation;Combined sexual and labour exploitation       78\n",
              "Forced labour;Other                                                              1\n",
              "Name: typeOfExploitConcatenated, dtype: int64"
            ]
          },
          "metadata": {
            "tags": []
          },
          "execution_count": 10
        }
      ]
    },
    {
      "cell_type": "markdown",
      "metadata": {
        "id": "UsTtcvxYOV2G"
      },
      "source": [
        "-99 means no collected data for the represtentive fields"
      ]
    },
    {
      "cell_type": "code",
      "metadata": {
        "id": "xczgknvwIPGr",
        "colab": {
          "base_uri": "https://localhost:8080/"
        },
        "outputId": "b2e439ea-a162-4e7c-8469-87dca00983aa"
      },
      "source": [
        "c=df[\"typeOfExploitConcatenated\"].value_counts()\n",
        "\n",
        "(c/c.sum())*100"
      ],
      "execution_count": null,
      "outputs": [
        {
          "output_type": "execute_result",
          "data": {
            "text/plain": [
              "-99                                                                          33.142763\n",
              "Sexual exploitation                                                          32.763673\n",
              "Forced labour                                                                18.378722\n",
              "Other                                                                        14.473064\n",
              "Slavery and similar practices                                                 0.735641\n",
              "Forced marriage                                                               0.344255\n",
              "Forced labour;Sexual exploitation;Combined sexual and labour exploitation     0.159833\n",
              "Forced labour;Other                                                           0.002049\n",
              "Name: typeOfExploitConcatenated, dtype: float64"
            ]
          },
          "metadata": {
            "tags": []
          },
          "execution_count": 11
        }
      ]
    },
    {
      "cell_type": "code",
      "metadata": {
        "id": "49jJyFm8HtwL",
        "colab": {
          "base_uri": "https://localhost:8080/"
        },
        "outputId": "316fd72f-12c3-46ac-f218-78e5293a89cd"
      },
      "source": [
        "df[\"citizenship\"].value_counts()"
      ],
      "execution_count": null,
      "outputs": [
        {
          "output_type": "execute_result",
          "data": {
            "text/plain": [
              "PH     11365\n",
              "00      8858\n",
              "UA      7761\n",
              "MD      5901\n",
              "US      3636\n",
              "KH      1979\n",
              "ID      1971\n",
              "BY      1463\n",
              "MM      1250\n",
              "RO       655\n",
              "GH       544\n",
              "KG       437\n",
              "BG       342\n",
              "HT       339\n",
              "-99      278\n",
              "UZ       261\n",
              "VN       170\n",
              "GW       145\n",
              "LA       126\n",
              "CO       124\n",
              "NG       108\n",
              "UG        98\n",
              "AF        97\n",
              "MG        94\n",
              "LK        85\n",
              "SL        81\n",
              "SN        70\n",
              "TH        55\n",
              "KZ        54\n",
              "CD        53\n",
              "ML        45\n",
              "TJ        43\n",
              "BF        33\n",
              "KE        32\n",
              "CI        31\n",
              "NE        31\n",
              "NP        27\n",
              "TM        26\n",
              "CN        23\n",
              "AL        22\n",
              "MX        19\n",
              "BO        18\n",
              "GN        15\n",
              "ER        13\n",
              "KR        12\n",
              "BD        11\n",
              "Name: citizenship, dtype: int64"
            ]
          },
          "metadata": {
            "tags": []
          },
          "execution_count": 12
        }
      ]
    },
    {
      "cell_type": "code",
      "metadata": {
        "id": "07v11rduLaH1",
        "colab": {
          "base_uri": "https://localhost:8080/"
        },
        "outputId": "2a1f6b96-5248-453e-fb07-23abff2736c4"
      },
      "source": [
        "df[\"meansOfControlTakesEarnings\"].value_counts()"
      ],
      "execution_count": null,
      "outputs": [
        {
          "output_type": "execute_result",
          "data": {
            "text/plain": [
              "-99    44804\n",
              " 1      2776\n",
              " 0      1221\n",
              "Name: meansOfControlTakesEarnings, dtype: int64"
            ]
          },
          "metadata": {
            "tags": []
          },
          "execution_count": 13
        }
      ]
    },
    {
      "cell_type": "markdown",
      "metadata": {
        "id": "RboqwqhrwRRE"
      },
      "source": [
        "# New Section"
      ]
    },
    {
      "cell_type": "code",
      "metadata": {
        "id": "PWgxCsXzwUzG"
      },
      "source": [
        "from google.colab import drive\n",
        "drive.mount('/content/drive')"
      ],
      "execution_count": null,
      "outputs": []
    },
    {
      "cell_type": "code",
      "metadata": {
        "id": "GjCZUEJHUJqx"
      },
      "source": [
        "genders=df['gender'].values\n",
        "years=df['yearOfRegistration'].values\n",
        "registration=df['yearOfRegistration'].value_counts()\n"
      ],
      "execution_count": null,
      "outputs": []
    },
    {
      "cell_type": "markdown",
      "metadata": {
        "id": "bJ_RUtC3UOIL"
      },
      "source": [
        "getting years and case count each of year to see the rise and fall in case\n"
      ]
    },
    {
      "cell_type": "code",
      "metadata": {
        "id": "MIlZgyEROrsE"
      },
      "source": [
        "case_count=registration.values\n",
        "case_count\n",
        "years=registration.index"
      ],
      "execution_count": null,
      "outputs": []
    },
    {
      "cell_type": "code",
      "metadata": {
        "id": "J8Pfh6glxSTM"
      },
      "source": [
        "plt"
      ],
      "execution_count": null,
      "outputs": []
    }
  ]
}